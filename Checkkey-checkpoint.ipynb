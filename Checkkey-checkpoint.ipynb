{
 "cells": [
  {
   "cell_type": "code",
   "execution_count": 1,
   "id": "afad3086",
   "metadata": {},
   "outputs": [
    {
     "name": "stdout",
     "output_type": "stream",
     "text": [
      "Enter Key value to check key Exist or not :1\n",
      "1 not Exists\n"
     ]
    }
   ],
   "source": [
    "dict = {\n",
    "    \"name\": \"Muhammad Awais\",\n",
    "    \"Age\": 21,\n",
    "    \"Dept\":\"IT\",\n",
    "    \"Roll\": 78\n",
    "}\n",
    "\n",
    "key = input(\"Enter Key value to check key Exist or not :\")\n",
    "if key in dict.keys():\n",
    "    print(key,\"key is Exist.\")\n",
    "else:\n",
    "    print(key,\"not Exists\")"
   ]
  },
  {
   "cell_type": "code",
   "execution_count": null,
   "id": "daf2f0f0",
   "metadata": {},
   "outputs": [],
   "source": []
  }
 ],
 "metadata": {
  "kernelspec": {
   "display_name": "Python 3",
   "language": "python",
   "name": "python3"
  },
  "language_info": {
   "codemirror_mode": {
    "name": "ipython",
    "version": 3
   },
   "file_extension": ".py",
   "mimetype": "text/x-python",
   "name": "python",
   "nbconvert_exporter": "python",
   "pygments_lexer": "ipython3",
   "version": "3.8.8"
  }
 },
 "nbformat": 4,
 "nbformat_minor": 5
}
