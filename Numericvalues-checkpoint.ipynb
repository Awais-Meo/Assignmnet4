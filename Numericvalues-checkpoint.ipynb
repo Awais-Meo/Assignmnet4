{
 "cells": [
  {
   "cell_type": "code",
   "execution_count": 2,
   "id": "85308884",
   "metadata": {},
   "outputs": [
    {
     "name": "stdout",
     "output_type": "stream",
     "text": [
      "These all are numeric values in myList :  [2, 76, 22, 1]\n"
     ]
    }
   ],
   "source": [
    "myList = [2,\"Muhammad\",76,\"Awais\",\"IT\",22,1]\n",
    "newList=[]\n",
    "for i in myList:\n",
    "    if type(i) == int:\n",
    "        newList.append(i)\n",
    "\n",
    "print(\"These all are numeric values in myList : \",newList)\n"
   ]
  },
  {
   "cell_type": "code",
   "execution_count": null,
   "id": "006bcb00",
   "metadata": {},
   "outputs": [],
   "source": []
  }
 ],
 "metadata": {
  "kernelspec": {
   "display_name": "Python 3",
   "language": "python",
   "name": "python3"
  },
  "language_info": {
   "codemirror_mode": {
    "name": "ipython",
    "version": 3
   },
   "file_extension": ".py",
   "mimetype": "text/x-python",
   "name": "python",
   "nbconvert_exporter": "python",
   "pygments_lexer": "ipython3",
   "version": "3.8.8"
  }
 },
 "nbformat": 4,
 "nbformat_minor": 5
}
