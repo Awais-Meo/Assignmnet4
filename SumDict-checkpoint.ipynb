{
 "cells": [
  {
   "cell_type": "code",
   "execution_count": 1,
   "id": "292ecac9",
   "metadata": {},
   "outputs": [
    {
     "name": "stdout",
     "output_type": "stream",
     "text": [
      "Sum of Dict  184\n"
     ]
    }
   ],
   "source": [
    "my_Dict = {\n",
    "    \"num1\":20,\n",
    "    \"num2\":1,\n",
    "    \"num3\":76,\n",
    "    \"num4\":87\n",
    "}\n",
    "Total =0\n",
    "for i in my_Dict.values():\n",
    "    Total = Total+i\n",
    "\n",
    "print(\"Sum of Dict \",Total)\n"
   ]
  },
  {
   "cell_type": "code",
   "execution_count": null,
   "id": "b81b2fc2",
   "metadata": {},
   "outputs": [],
   "source": []
  }
 ],
 "metadata": {
  "kernelspec": {
   "display_name": "Python 3",
   "language": "python",
   "name": "python3"
  },
  "language_info": {
   "codemirror_mode": {
    "name": "ipython",
    "version": 3
   },
   "file_extension": ".py",
   "mimetype": "text/x-python",
   "name": "python",
   "nbconvert_exporter": "python",
   "pygments_lexer": "ipython3",
   "version": "3.8.8"
  }
 },
 "nbformat": 4,
 "nbformat_minor": 5
}
