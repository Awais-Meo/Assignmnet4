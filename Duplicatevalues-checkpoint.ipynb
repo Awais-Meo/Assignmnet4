{
 "cells": [
  {
   "cell_type": "code",
   "execution_count": 1,
   "id": "766c2867",
   "metadata": {},
   "outputs": [
    {
     "name": "stdout",
     "output_type": "stream",
     "text": [
      "5 is Duplicate Value in list\n",
      "1 is Duplicate Value in list\n",
      "2 is Duplicate Value in list\n",
      "4 is Duplicate Value in list\n",
      "3 is Duplicate Value in list\n"
     ]
    }
   ],
   "source": [
    "List1 = [2,1,4,12,3,5,5,1,2,4,6,3]\n",
    "list2 =[]\n",
    "for i in List1:\n",
    "    if i not in list2:\n",
    "        list2.append(i)\n",
    "    else:\n",
    "        print(i,\"is Duplicate Value in list\")"
   ]
  },
  {
   "cell_type": "code",
   "execution_count": null,
   "id": "77f2370b",
   "metadata": {},
   "outputs": [],
   "source": []
  }
 ],
 "metadata": {
  "kernelspec": {
   "display_name": "Python 3",
   "language": "python",
   "name": "python3"
  },
  "language_info": {
   "codemirror_mode": {
    "name": "ipython",
    "version": 3
   },
   "file_extension": ".py",
   "mimetype": "text/x-python",
   "name": "python",
   "nbconvert_exporter": "python",
   "pygments_lexer": "ipython3",
   "version": "3.8.8"
  }
 },
 "nbformat": 4,
 "nbformat_minor": 5
}
