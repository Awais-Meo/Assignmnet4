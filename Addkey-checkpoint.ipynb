{
 "cells": [
  {
   "cell_type": "code",
   "execution_count": 1,
   "id": "1645513e",
   "metadata": {},
   "outputs": [
    {
     "name": "stdout",
     "output_type": "stream",
     "text": [
      "Enter key :1\n",
      "Enter Value :20\n",
      "dict_items([('num1', 20), ('num2', 1), ('num3', 76), ('num4', 87), ('1', '20')])\n"
     ]
    }
   ],
   "source": [
    "my_Dict = {\n",
    "    \"num1\":20,\n",
    "    \"num2\":1,\n",
    "    \"num3\":76,\n",
    "    \"num4\":87\n",
    "}\n",
    "k = input(\"Enter key :\")\n",
    "v = input(\"Enter Value :\")\n",
    "\n",
    "my_Dict.update({k:v})\n",
    "\n",
    "print(my_Dict.items())"
   ]
  },
  {
   "cell_type": "code",
   "execution_count": null,
   "id": "81037555",
   "metadata": {},
   "outputs": [],
   "source": []
  },
  {
   "cell_type": "code",
   "execution_count": null,
   "id": "a50b0a50",
   "metadata": {},
   "outputs": [],
   "source": []
  }
 ],
 "metadata": {
  "kernelspec": {
   "display_name": "Python 3",
   "language": "python",
   "name": "python3"
  },
  "language_info": {
   "codemirror_mode": {
    "name": "ipython",
    "version": 3
   },
   "file_extension": ".py",
   "mimetype": "text/x-python",
   "name": "python",
   "nbconvert_exporter": "python",
   "pygments_lexer": "ipython3",
   "version": "3.8.8"
  }
 },
 "nbformat": 4,
 "nbformat_minor": 5
}
